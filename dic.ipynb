{
  "nbformat": 4,
  "nbformat_minor": 0,
  "metadata": {
    "colab": {
      "name": "dic.ipynb",
      "provenance": [],
      "authorship_tag": "ABX9TyNht26ZCLiuOWl4azX0dCTK",
      "include_colab_link": true
    },
    "kernelspec": {
      "name": "python3",
      "display_name": "Python 3"
    },
    "language_info": {
      "name": "python"
    }
  },
  "cells": [
    {
      "cell_type": "markdown",
      "metadata": {
        "id": "view-in-github",
        "colab_type": "text"
      },
      "source": [
        "<a href=\"https://colab.research.google.com/github/JBH-0/ImmersivePractice/blob/main/dic.ipynb\" target=\"_parent\"><img src=\"https://colab.research.google.com/assets/colab-badge.svg\" alt=\"Open In Colab\"/></a>"
      ]
    },
    {
      "cell_type": "markdown",
      "source": [
        "# UNIT 25.  딕셔너리 응용하기"
      ],
      "metadata": {
        "id": "vmoW0_NspsCE"
      }
    },
    {
      "cell_type": "markdown",
      "source": [
        "딕셔너리 표현식 사용하기(367p)"
      ],
      "metadata": {
        "id": "mSQ6hJQGptgD"
      }
    },
    {
      "cell_type": "code",
      "execution_count": null,
      "metadata": {
        "colab": {
          "base_uri": "https://localhost:8080/"
        },
        "id": "NftJT9_hpVtT",
        "outputId": "73ae2084-fab2-48d0-8482-6b3e28ec8829"
      },
      "outputs": [
        {
          "output_type": "stream",
          "name": "stdout",
          "text": [
            "{'a': None, 'b': None, 'c': None, 'd': None}\n",
            "{'a': None, 'b': None, 'c': None, 'd': None}\n"
          ]
        }
      ],
      "source": [
        "keys=['a','b','c','d']\n",
        "#딕셔너리 표현식\n",
        "x={key:value for key, value in dict.fromkeys(keys).items()}\n",
        "print(x)\n",
        "\n",
        "#for문 이용\n",
        "dic={}\n",
        "for key, value in dict.fromkeys(keys).items():\n",
        "  dic.setdefault(key,value) \n",
        "print(dic)"
      ]
    },
    {
      "cell_type": "code",
      "source": [
        "k=['a','b','c','d']\n",
        "#딕셔너리 표현식\n",
        "x={key: 0 for key in dict.fromkeys(k).keys()} #키만 가져옴\n",
        "print(x)\n",
        "\n",
        "#for문 이용\n",
        "dic={}\n",
        "for key in dict.fromkeys(k).keys():\n",
        "  dic.setdefault(key,0)\n",
        "print(dic)"
      ],
      "metadata": {
        "colab": {
          "base_uri": "https://localhost:8080/"
        },
        "id": "CF1EEx8cpzAb",
        "outputId": "b30f3fcc-7918-4c5f-b2f2-bc0fc4913a8c"
      },
      "execution_count": null,
      "outputs": [
        {
          "output_type": "stream",
          "name": "stdout",
          "text": [
            "{'a': 0, 'b': 0, 'c': 0, 'd': 0}\n",
            "{'a': 0, 'b': 0, 'c': 0, 'd': 0}\n"
          ]
        }
      ]
    },
    {
      "cell_type": "code",
      "source": [
        "k={'a':10, 'b':20, 'c':30, 'd':40}\n",
        "#딕셔너리 표현식\n",
        "x={value: 0 for value in k.values()} #값을 키로 사용\n",
        "print(x)\n",
        "\n",
        "#for문 이용\n",
        "dic={}\n",
        "for value in k.values():\n",
        "  dic.setdefault(value,0)\n",
        "print(dic)"
      ],
      "metadata": {
        "colab": {
          "base_uri": "https://localhost:8080/"
        },
        "id": "9-BgDF8spzHU",
        "outputId": "d56c6a24-aa94-43cc-f2d8-b49c539a1a28"
      },
      "execution_count": null,
      "outputs": [
        {
          "output_type": "stream",
          "name": "stdout",
          "text": [
            "{10: 0, 20: 0, 30: 0, 40: 0}\n",
            "{10: 0, 20: 0, 30: 0, 40: 0}\n"
          ]
        }
      ]
    },
    {
      "cell_type": "code",
      "source": [
        "k={'a':10, 'b':20, 'c':30, 'd':40}\n",
        "#딕셔너리 표현식\n",
        "x={value: key for key,value in {'a':10, 'b':20, 'c':30, 'd':40}.items()} #키-값 자리를 바꿈\n",
        "print(x)\n",
        "\n",
        "#for문 이용\n",
        "dic={}\n",
        "for key,value in k.items():\n",
        "  dic.setdefault(value,key)\n",
        "print(dic)"
      ],
      "metadata": {
        "colab": {
          "base_uri": "https://localhost:8080/"
        },
        "id": "8ShXDGxyp2aF",
        "outputId": "a144ab2c-271c-4800-d566-31d46d5b7b4d"
      },
      "execution_count": null,
      "outputs": [
        {
          "output_type": "stream",
          "name": "stdout",
          "text": [
            "{10: 'a', 20: 'b', 30: 'c', 40: 'd'}\n",
            "{10: 'a', 20: 'b', 30: 'c', 40: 'd'}\n"
          ]
        }
      ]
    }
  ]
}